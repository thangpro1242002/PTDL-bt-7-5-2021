{
  "nbformat": 4,
  "nbformat_minor": 0,
  "metadata": {
    "kernelspec": {
      "display_name": "Python 3",
      "language": "python",
      "name": "python3"
    },
    "language_info": {
      "codemirror_mode": {
        "name": "ipython",
        "version": 3
      },
      "file_extension": ".py",
      "mimetype": "text/x-python",
      "name": "python",
      "nbconvert_exporter": "python",
      "pygments_lexer": "ipython3",
      "version": "3.7.3"
    },
    "colab": {
      "name": "Bản sao của bai-tap-phan-tich-anova-1-chieu.ipynb",
      "provenance": [],
      "include_colab_link": true
    }
  },
  "cells": [
    {
      "cell_type": "markdown",
      "metadata": {
        "id": "view-in-github",
        "colab_type": "text"
      },
      "source": [
        "<a href=\"https://colab.research.google.com/github/thangpro1242002/PTDL-bt-7-5-2021/blob/main/phan_tich_anova_1_chieu.ipynb\" target=\"_parent\"><img src=\"https://colab.research.google.com/assets/colab-badge.svg\" alt=\"Open In Colab\"/></a>"
      ]
    },
    {
      "cell_type": "markdown",
      "metadata": {
        "id": "u67Q-hB9FgXt"
      },
      "source": [
        "Hãy sử dụng các tập dữ liệu sau và tiến hành phân tích ANOVA 1 chiều\n",
        "\n",
        "- [Excavation Depth and Archaeology](https://college.cengage.com/mathematics/brase/understandable_statistics/7e/students/datasets/owan/frames/owan01.html)\n",
        "- [Apple Orchard Experiment](https://college.cengage.com/mathematics/brase/understandable_statistics/7e/students/datasets/owan/frames/owan02.html)\n",
        "- [Red Dye Number 40](https://college.cengage.com/mathematics/brase/understandable_statistics/7e/students/datasets/owan/frames/owan03.html)\n",
        "- [Business Startup Costs](https://college.cengage.com/mathematics/brase/understandable_statistics/7e/students/datasets/owan/frames/owan04.html)\n",
        "- [Weights of Football Players](https://college.cengage.com/mathematics/brase/understandable_statistics/7e/students/datasets/owan/frames/owan05.html)"
      ]
    },
    {
      "cell_type": "code",
      "metadata": {
        "id": "h50eXlHQFgYC"
      },
      "source": [
        "\n",
        "import pandas as pd\n",
        "from scipy import stats"
      ],
      "execution_count": 1,
      "outputs": []
    },
    {
      "cell_type": "code",
      "metadata": {
        "id": "Z8hqkws1G2OA"
      },
      "source": [
        "class projectAnova:\n",
        "    def __init__(self,data):\n",
        "        self.data = data\n",
        "        self.samples = []\n",
        "        for i in data.columns:\n",
        "            self.samples.append(data[i].dropna())\n",
        "    #kiem tra su phan phoi chuan\n",
        "    def shapiro_test(self):\n",
        "        for (stt, sample) in enumerate(self.samples):\n",
        "            pv_s = stats.shapiro(sample)[1]\n",
        "            if pv_s > 0.05:\n",
        "                print(f'Mẫu {stt} tuân theo phân phối chuẩn')\n",
        "            else:\n",
        "                print(f'Mẫu {stt} không tuân theo phân phối chuẩn')\n",
        "    #kiem tra su khac biet cua phuong sai\n",
        "    def levene_test(self):\n",
        "        pv_l = stats.levene(*self.samples)[1]\n",
        "        if pv_l > 0.05:\n",
        "            print('Phương sai bằng nhau')\n",
        "        else:\n",
        "            print('Có ít nhất một cặp Phương sai không bằng nhau')\n",
        "    #anova test\n",
        "    def anova_test(self):\n",
        "        pv_a = stats.f_oneway(*self.samples)[1]\n",
        "        if pv_a > 0.05:\n",
        "            print('các giá trị trung bình bằng nhau')\n",
        "        else:\n",
        "            print('Có tối thiểu một cặp giá trị trung bình có giá trị khác nhau')"
      ],
      "execution_count": 2,
      "outputs": []
    },
    {
      "cell_type": "code",
      "metadata": {
        "colab": {
          "base_uri": "https://localhost:8080/"
        },
        "id": "Kd8RVmYJG6Of",
        "outputId": "6c09b94e-1d91-4e4d-aee9-a020e474b258"
      },
      "source": [
        "df1 = pd.read_excel('owan01.xls')"
      ],
      "execution_count": 3,
      "outputs": [
        {
          "output_type": "stream",
          "text": [
            "*** No CODEPAGE record, no encoding_override: will use 'ascii'\n"
          ],
          "name": "stdout"
        }
      ]
    },
    {
      "cell_type": "code",
      "metadata": {
        "colab": {
          "base_uri": "https://localhost:8080/"
        },
        "id": "HX5ESoSaG9ev",
        "outputId": "a8d3fb08-7bac-416f-d7cc-16a6654ed419"
      },
      "source": [
        "df2 = pd.read_excel('owan02.xls')"
      ],
      "execution_count": 4,
      "outputs": [
        {
          "output_type": "stream",
          "text": [
            "*** No CODEPAGE record, no encoding_override: will use 'ascii'\n"
          ],
          "name": "stdout"
        }
      ]
    },
    {
      "cell_type": "code",
      "metadata": {
        "id": "xG5M_OkKG_zX"
      },
      "source": [
        "a1 = projectAnova(df1)"
      ],
      "execution_count": 5,
      "outputs": []
    },
    {
      "cell_type": "code",
      "metadata": {
        "colab": {
          "base_uri": "https://localhost:8080/"
        },
        "id": "qDWDz15fHCdP",
        "outputId": "2ee8098f-8a34-48bf-87fc-f56d586f5f95"
      },
      "source": [
        "a1.shapiro_test()\n",
        "a1.levene_test()\n",
        "a1.anova_test()"
      ],
      "execution_count": 6,
      "outputs": [
        {
          "output_type": "stream",
          "text": [
            "Mẫu 0 tuân theo phân phối chuẩn\n",
            "Mẫu 1 tuân theo phân phối chuẩn\n",
            "Mẫu 2 tuân theo phân phối chuẩn\n",
            "Mẫu 3 tuân theo phân phối chuẩn\n",
            "Phương sai bằng nhau\n",
            "Có tối thiểu một cặp giá trị trung bình có giá trị khác nhau\n"
          ],
          "name": "stdout"
        }
      ]
    },
    {
      "cell_type": "code",
      "metadata": {
        "id": "KnD_ni4_HH9_"
      },
      "source": [
        "a2 = projectAnova(df2)"
      ],
      "execution_count": 7,
      "outputs": []
    },
    {
      "cell_type": "code",
      "metadata": {
        "colab": {
          "base_uri": "https://localhost:8080/"
        },
        "id": "OP6HOX3QHJHn",
        "outputId": "1d55fcd6-39f4-4770-c44d-7827c17ec61d"
      },
      "source": [
        "a2.shapiro_test()\n",
        "a2.levene_test()\n",
        "a2.anova_test()"
      ],
      "execution_count": 8,
      "outputs": [
        {
          "output_type": "stream",
          "text": [
            "Mẫu 0 tuân theo phân phối chuẩn\n",
            "Mẫu 1 tuân theo phân phối chuẩn\n",
            "Mẫu 2 tuân theo phân phối chuẩn\n",
            "Mẫu 3 tuân theo phân phối chuẩn\n",
            "Mẫu 4 tuân theo phân phối chuẩn\n",
            "Phương sai bằng nhau\n",
            "các giá trị trung bình bằng nhau\n"
          ],
          "name": "stdout"
        }
      ]
    },
    {
      "cell_type": "code",
      "metadata": {
        "colab": {
          "base_uri": "https://localhost:8080/"
        },
        "id": "2K11eAujHLjw",
        "outputId": "b8251d57-3508-45b2-a837-7f232e13599c"
      },
      "source": [
        "\n",
        "a3 = projectAnova(pd.read_excel('owan03.xls'))"
      ],
      "execution_count": 9,
      "outputs": [
        {
          "output_type": "stream",
          "text": [
            "*** No CODEPAGE record, no encoding_override: will use 'ascii'\n"
          ],
          "name": "stdout"
        }
      ]
    },
    {
      "cell_type": "code",
      "metadata": {
        "colab": {
          "base_uri": "https://localhost:8080/"
        },
        "id": "HBQ1gV0QHOA3",
        "outputId": "ee9fa71b-8ed9-48f2-ea8e-b6114b272ade"
      },
      "source": [
        "a3.shapiro_test()\n",
        "a3.levene_test()# các cặp phương sai không bằng nhau nên sẽ không thỏa các điều kiện để tiến hành anova test\n",
        "a3.anova_test()"
      ],
      "execution_count": 10,
      "outputs": [
        {
          "output_type": "stream",
          "text": [
            "Mẫu 0 tuân theo phân phối chuẩn\n",
            "Mẫu 1 tuân theo phân phối chuẩn\n",
            "Mẫu 2 tuân theo phân phối chuẩn\n",
            "Mẫu 3 tuân theo phân phối chuẩn\n",
            "Có ít nhất một cặp Phương sai không bằng nhau\n",
            "Có tối thiểu một cặp giá trị trung bình có giá trị khác nhau\n"
          ],
          "name": "stdout"
        }
      ]
    },
    {
      "cell_type": "code",
      "metadata": {
        "colab": {
          "base_uri": "https://localhost:8080/"
        },
        "id": "p_aXPx6YHR4m",
        "outputId": "19ab5dde-cde6-485e-d67d-1a8b421cc5ab"
      },
      "source": [
        "a4 = projectAnova(pd.read_excel('owan04.xls'))"
      ],
      "execution_count": 11,
      "outputs": [
        {
          "output_type": "stream",
          "text": [
            "*** No CODEPAGE record, no encoding_override: will use 'ascii'\n"
          ],
          "name": "stdout"
        }
      ]
    },
    {
      "cell_type": "code",
      "metadata": {
        "colab": {
          "base_uri": "https://localhost:8080/"
        },
        "id": "CRUxlz5dHUIf",
        "outputId": "fb882427-166d-4a8e-f461-919fcba8cf35"
      },
      "source": [
        "a4.shapiro_test()\n",
        "a4.levene_test()\n",
        "a4.anova_test()"
      ],
      "execution_count": 12,
      "outputs": [
        {
          "output_type": "stream",
          "text": [
            "Mẫu 0 tuân theo phân phối chuẩn\n",
            "Mẫu 1 tuân theo phân phối chuẩn\n",
            "Mẫu 2 tuân theo phân phối chuẩn\n",
            "Mẫu 3 tuân theo phân phối chuẩn\n",
            "Mẫu 4 tuân theo phân phối chuẩn\n",
            "Phương sai bằng nhau\n",
            "Có tối thiểu một cặp giá trị trung bình có giá trị khác nhau\n"
          ],
          "name": "stdout"
        }
      ]
    },
    {
      "cell_type": "code",
      "metadata": {
        "colab": {
          "base_uri": "https://localhost:8080/"
        },
        "id": "NOlogs62HWqX",
        "outputId": "1f071f3a-0ef8-491e-8882-dd79cf60ac01"
      },
      "source": [
        "a5 = projectAnova(pd.read_excel('owan05.xls'))"
      ],
      "execution_count": 13,
      "outputs": [
        {
          "output_type": "stream",
          "text": [
            "*** No CODEPAGE record, no encoding_override: will use 'ascii'\n"
          ],
          "name": "stdout"
        }
      ]
    },
    {
      "cell_type": "code",
      "metadata": {
        "colab": {
          "base_uri": "https://localhost:8080/"
        },
        "id": "S5VIfAEIHY73",
        "outputId": "d5a50b1e-3259-4afc-e15a-6c7087b385c3"
      },
      "source": [
        "a5.shapiro_test() # vì có một mẫu không tuân theo phân phối chuẩn nên khó đi đến kết luận của Anova test\n",
        "a5.levene_test()\n",
        "a5.anova_test()"
      ],
      "execution_count": 14,
      "outputs": [
        {
          "output_type": "stream",
          "text": [
            "Mẫu 0 không tuân theo phân phối chuẩn\n",
            "Mẫu 1 tuân theo phân phối chuẩn\n",
            "Mẫu 2 tuân theo phân phối chuẩn\n",
            "Mẫu 3 tuân theo phân phối chuẩn\n",
            "Mẫu 4 tuân theo phân phối chuẩn\n",
            "Phương sai bằng nhau\n",
            "các giá trị trung bình bằng nhau\n"
          ],
          "name": "stdout"
        }
      ]
    }
  ]
}