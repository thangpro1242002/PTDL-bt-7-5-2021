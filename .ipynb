{
 "cells": [
  {
   "cell_type": "code",
   "execution_count": 1,
   "metadata": {},
   "outputs": [],
   "source": [
    "import pandas as pd\n",
    "from scipy import stats"
   ]
  },
  {
   "cell_type": "code",
   "execution_count": 2,
   "metadata": {},
   "outputs": [],
   "source": [
    "class projectAnova:\n",
    "    def __init__(self,data):\n",
    "        self.data = data\n",
    "        self.samples = []\n",
    "        for i in data.columns:\n",
    "            self.samples.append(data[i].dropna())\n",
    "    #kiem tra su phan phoi chuan\n",
    "    def shapiro_test(self):\n",
    "        for (stt, sample) in enumerate(self.samples):\n",
    "            pv_s = stats.shapiro(sample)[1]\n",
    "            if pv_s > 0.05:\n",
    "                print(f'Mẫu {stt} tuân theo phân phối chuẩn')\n",
    "            else:\n",
    "                print(f'Mẫu {stt} không tuân theo phân phối chuẩn')\n",
    "    #kiem tra su khac biet cua phuong sai\n",
    "    def levene_test(self):\n",
    "        pv_l = stats.levene(*self.samples)[1]\n",
    "        if pv_l > 0.05:\n",
    "            print('Phương sai bằng nhau')\n",
    "        else:\n",
    "            print('Có ít nhất một cặp Phương sai không bằng nhau')\n",
    "    #anova test\n",
    "    def anova_test(self):\n",
    "        pv_a = stats.f_oneway(*self.samples)[1]\n",
    "        if pv_a > 0.05:\n",
    "            print('các giá trị trung bình bằng nhau')\n",
    "        else:\n",
    "            print('Có tối thiểu một cặp giá trị trung bình có giá trị khác nhau')"
   ]
  },
  {
   "cell_type": "code",
   "execution_count": 5,
   "metadata": {},
   "outputs": [
    {
     "name": "stdout",
     "output_type": "stream",
     "text": [
      "*** No CODEPAGE record, no encoding_override: will use 'ascii'\n"
     ]
    }
   ],
   "source": [
    "df1 = pd.read_excel('owan01.xls')"
   ]
  },
  {
   "cell_type": "code",
   "execution_count": 8,
   "metadata": {},
   "outputs": [
    {
     "name": "stdout",
     "output_type": "stream",
     "text": [
      "*** No CODEPAGE record, no encoding_override: will use 'ascii'\n"
     ]
    }
   ],
   "source": [
    "df2 = pd.read_excel('owan02.xls')"
   ]
  },
  {
   "cell_type": "code",
   "execution_count": 9,
   "metadata": {},
   "outputs": [],
   "source": [
    "a1 = projectAnova(df1)"
   ]
  },
  {
   "cell_type": "code",
   "execution_count": 10,
   "metadata": {},
   "outputs": [
    {
     "name": "stdout",
     "output_type": "stream",
     "text": [
      "Mẫu 0 tuân theo phân phối chuẩn\n",
      "Mẫu 1 tuân theo phân phối chuẩn\n",
      "Mẫu 2 tuân theo phân phối chuẩn\n",
      "Mẫu 3 tuân theo phân phối chuẩn\n",
      "Phương sai bằng nhau\n",
      "Có tối thiểu một cặp giá trị trung bình có giá trị khác nhau\n"
     ]
    }
   ],
   "source": [
    "a1.shapiro_test()\n",
    "a1.levene_test()\n",
    "a1.anova_test()"
   ]
  },
  {
   "cell_type": "code",
   "execution_count": 11,
   "metadata": {},
   "outputs": [],
   "source": [
    "\n",
    "a2 = projectAnova(df2)"
   ]
  },
  {
   "cell_type": "code",
   "execution_count": 12,
   "metadata": {},
   "outputs": [
    {
     "name": "stdout",
     "output_type": "stream",
     "text": [
      "Mẫu 0 tuân theo phân phối chuẩn\n",
      "Mẫu 1 tuân theo phân phối chuẩn\n",
      "Mẫu 2 tuân theo phân phối chuẩn\n",
      "Mẫu 3 tuân theo phân phối chuẩn\n",
      "Mẫu 4 tuân theo phân phối chuẩn\n",
      "Phương sai bằng nhau\n",
      "các giá trị trung bình bằng nhau\n"
     ]
    }
   ],
   "source": [
    "a2.shapiro_test()\n",
    "a2.levene_test()\n",
    "a2.anova_test()"
   ]
  },
  {
   "cell_type": "code",
   "execution_count": 13,
   "metadata": {},
   "outputs": [
    {
     "name": "stdout",
     "output_type": "stream",
     "text": [
      "*** No CODEPAGE record, no encoding_override: will use 'ascii'\n"
     ]
    }
   ],
   "source": [
    "a3 = projectAnova(pd.read_excel('owan03.xls'))"
   ]
  },
  {
   "cell_type": "code",
   "execution_count": 14,
   "metadata": {},
   "outputs": [
    {
     "name": "stdout",
     "output_type": "stream",
     "text": [
      "Mẫu 0 tuân theo phân phối chuẩn\n",
      "Mẫu 1 tuân theo phân phối chuẩn\n",
      "Mẫu 2 tuân theo phân phối chuẩn\n",
      "Mẫu 3 tuân theo phân phối chuẩn\n",
      "Có ít nhất một cặp Phương sai không bằng nhau\n",
      "Có tối thiểu một cặp giá trị trung bình có giá trị khác nhau\n"
     ]
    }
   ],
   "source": [
    "a3.shapiro_test()\n",
    "a3.levene_test()# các cặp phương sai không bằng nhau nên sẽ không thỏa các điều kiện để tiến hành anova test\n",
    "a3.anova_test()"
   ]
  },
  {
   "cell_type": "code",
   "execution_count": 15,
   "metadata": {},
   "outputs": [
    {
     "name": "stdout",
     "output_type": "stream",
     "text": [
      "*** No CODEPAGE record, no encoding_override: will use 'ascii'\n"
     ]
    }
   ],
   "source": [
    "a4 = projectAnova(pd.read_excel('owan04.xls'))"
   ]
  },
  {
   "cell_type": "code",
   "execution_count": 16,
   "metadata": {},
   "outputs": [
    {
     "name": "stdout",
     "output_type": "stream",
     "text": [
      "Mẫu 0 tuân theo phân phối chuẩn\n",
      "Mẫu 1 tuân theo phân phối chuẩn\n",
      "Mẫu 2 tuân theo phân phối chuẩn\n",
      "Mẫu 3 tuân theo phân phối chuẩn\n",
      "Mẫu 4 tuân theo phân phối chuẩn\n",
      "Phương sai bằng nhau\n",
      "Có tối thiểu một cặp giá trị trung bình có giá trị khác nhau\n"
     ]
    }
   ],
   "source": [
    "a4.shapiro_test()\n",
    "a4.levene_test()\n",
    "a4.anova_test()"
   ]
  },
  {
   "cell_type": "code",
   "execution_count": 17,
   "metadata": {},
   "outputs": [
    {
     "name": "stdout",
     "output_type": "stream",
     "text": [
      "*** No CODEPAGE record, no encoding_override: will use 'ascii'\n"
     ]
    }
   ],
   "source": [
    "\n",
    "a5 = projectAnova(pd.read_excel('owan05.xls'))"
   ]
  },
  {
   "cell_type": "code",
   "execution_count": 18,
   "metadata": {},
   "outputs": [
    {
     "name": "stdout",
     "output_type": "stream",
     "text": [
      "Mẫu 0 không tuân theo phân phối chuẩn\n",
      "Mẫu 1 tuân theo phân phối chuẩn\n",
      "Mẫu 2 tuân theo phân phối chuẩn\n",
      "Mẫu 3 tuân theo phân phối chuẩn\n",
      "Mẫu 4 tuân theo phân phối chuẩn\n",
      "Phương sai bằng nhau\n",
      "các giá trị trung bình bằng nhau\n"
     ]
    }
   ],
   "source": [
    "a5.shapiro_test() # vì có một mẫu không tuân theo phân phối chuẩn nên khó đi đến kết luận của Anova test\n",
    "a5.levene_test()\n",
    "a5.anova_test()"
   ]
  },
  {
   "cell_type": "code",
   "execution_count": null,
   "metadata": {},
   "outputs": [],
   "source": []
  }
 ],
 "metadata": {
  "kernelspec": {
   "display_name": "Python 3",
   "language": "python",
   "name": "python3"
  },
  "language_info": {
   "codemirror_mode": {
    "name": "ipython",
    "version": 3
   },
   "file_extension": ".py",
   "mimetype": "text/x-python",
   "name": "python",
   "nbconvert_exporter": "python",
   "pygments_lexer": "ipython3",
   "version": "3.8.5"
  }
 },
 "nbformat": 4,
 "nbformat_minor": 4
}
