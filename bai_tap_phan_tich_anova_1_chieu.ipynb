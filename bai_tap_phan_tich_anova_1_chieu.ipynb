{
  "nbformat": 4,
  "nbformat_minor": 0,
  "metadata": {
    "kernelspec": {
      "display_name": "Python 3",
      "language": "python",
      "name": "python3"
    },
    "language_info": {
      "codemirror_mode": {
        "name": "ipython",
        "version": 3
      },
      "file_extension": ".py",
      "mimetype": "text/x-python",
      "name": "python",
      "nbconvert_exporter": "python",
      "pygments_lexer": "ipython3",
      "version": "3.7.3"
    },
    "colab": {
      "name": "Bản sao của bai-tap-phan-tich-anova-1-chieu.ipynb",
      "provenance": [],
      "include_colab_link": true
    }
  },
  "cells": [
    {
      "cell_type": "markdown",
      "metadata": {
        "id": "view-in-github",
        "colab_type": "text"
      },
      "source": [
        "<a href=\"https://colab.research.google.com/github/thangpro1242002/PTDL-bt-7-5-2021/blob/main/bai_tap_phan_tich_anova_1_chieu.ipynb\" target=\"_parent\"><img src=\"https://colab.research.google.com/assets/colab-badge.svg\" alt=\"Open In Colab\"/></a>"
      ]
    },
    {
      "cell_type": "markdown",
      "metadata": {
        "id": "prv7AkGHDP1q"
      },
      "source": [
        "Hãy sử dụng các tập dữ liệu sau và tiến hành phân tích ANOVA 1 chiều\n",
        "\n",
        "- [Excavation Depth and Archaeology](https://college.cengage.com/mathematics/brase/understandable_statistics/7e/students/datasets/owan/frames/owan01.html)\n",
        "- [Apple Orchard Experiment](https://college.cengage.com/mathematics/brase/understandable_statistics/7e/students/datasets/owan/frames/owan02.html)\n",
        "- [Red Dye Number 40](https://college.cengage.com/mathematics/brase/understandable_statistics/7e/students/datasets/owan/frames/owan03.html)\n",
        "- [Business Startup Costs](https://college.cengage.com/mathematics/brase/understandable_statistics/7e/students/datasets/owan/frames/owan04.html)\n",
        "- [Weights of Football Players](https://college.cengage.com/mathematics/brase/understandable_statistics/7e/students/datasets/owan/frames/owan05.html)"
      ]
    },
    {
      "cell_type": "code",
      "metadata": {
        "id": "kjk5PmdQNjqv"
      },
      "source": [
        "import pandas as pd\n",
        "import numpy as np\n",
        "from scipy import stats\n",
        "import xlrd\n",
        "import math"
      ],
      "execution_count": 1,
      "outputs": []
    },
    {
      "cell_type": "code",
      "metadata": {
        "id": "EKoOQU0sgTo2"
      },
      "source": [
        "\"\"\" Phát biểu giả thiết:\n",
        "    H0: mẫu tuân theo phân phối chuẩn\n",
        "    H1: Mẫu không tuân theo phân phối chuẩn\n",
        "\"\"\"\n",
        "# kiểm tra tính phân phối chuẩn\n",
        "def Shapiro(data):\n",
        "    print(\"Kiểm định Shapiro -\", data.name)\n",
        "    stat, pvalue = stats.shapiro(data)\n",
        "    if pvalue > 0.05:\n",
        "        print(\"chưa có bằng chứng bác bỏ Ho,mẫu có thể phân theo phân phối chuẩn\")\n",
        "    else:\n",
        "        print(\"có bằng chứng bác bỏ Ho,mẫu ko phân theo phân phối chuẩn\")"
      ],
      "execution_count": 2,
      "outputs": []
    },
    {
      "cell_type": "code",
      "metadata": {
        "id": "1Xhn35FC9gF8"
      },
      "source": [
        "\"\"\" Phát biểu giả thiết:\n",
        "      H0: Phương sai đồng nhất\n",
        "      H1: phương sai không đồng nhất\n",
        "\"\"\"\n",
        "#kiểm tra sự khác biệt của phương sai\n",
        "def bartlett(a, b, c, d): \n",
        "    print(\"Kiểm định Bartlett:\")\n",
        "    stat, pvalue = stats.bartlett(a, b, c, d)\n",
        "    print(\"Statistic =\", stat, \n",
        "          \"p value =\", pvalue)\n",
        "    if pvalue > 0.05:\n",
        "        print(\"chưa có bằng chứng thống kê bác bỏ Ho, điều này ngụ ý mẫu hiện tại mang tính đồng nhất về phương sai\")\n",
        "    else:\n",
        "        print(\"có bằng chứng thống kê bác bỏ Ho, điều này ngụ ý mẫu hiện tại ko mang tính đồng nhất về phương sai\")"
      ],
      "execution_count": 3,
      "outputs": []
    },
    {
      "cell_type": "code",
      "metadata": {
        "id": "cSxdOyHR9twi"
      },
      "source": [
        "\"\"\" Phát biểu giả thiết:\n",
        "      H0: các giá trị trung bình bằng nhau\n",
        "      H1: Có tối thiểu một cặp giá trị trung bình có giá trị khác nhau\n",
        "\"\"\"\n",
        "def anova(a, b, c, d):\n",
        "    print(\"Kiểm định Anova:\")\n",
        "    stat, pvalue = stats.f_oneway(a, b, c, d)\n",
        "    print(\"Stat =\", stat,\n",
        "          \"p value =\", pvalue)\n",
        "    if pvalue < 0.05:\n",
        "        print(\"Có bằng chứng thống kê để bác bỏ giả thuyết H0\")\n",
        "    else:\n",
        "        print(\"Chưa có bằng chứng thống kê để bác bỏ giả thuyết H0\")"
      ],
      "execution_count": 4,
      "outputs": []
    },
    {
      "cell_type": "code",
      "metadata": {
        "colab": {
          "base_uri": "https://localhost:8080/"
        },
        "id": "zN32sbQc-FUK",
        "outputId": "0c515c1f-a4e5-46f5-ec6b-32138085a6c4"
      },
      "source": [
        "df1 = pd.read_excel(\"owan01.xls\")\n",
        "print(df1.head())\n",
        "x1_1 = df1['X1']\n",
        "x1_2 = df1['X2']\n",
        "x1_3 = df1['X3']\n",
        "x1_4 = df1['X4']\n",
        "#kiểm tra tính đồng nhất về phương sai\n",
        "print(bartlett(x1_1, x1_2, x1_3, x1_4))\n",
        "\n",
        "#kiểm tra tính phân phối chuẩn\n",
        "print(Shapiro(x1_1))\n",
        "print(Shapiro(x1_2))\n",
        "print(Shapiro(x1_3))\n",
        "print(Shapiro(x1_4))\n",
        "#kiểm định ANOVA\n",
        "print(anova(x1_1, x1_2, x1_3, x1_4))"
      ],
      "execution_count": 5,
      "outputs": [
        {
          "output_type": "stream",
          "text": [
            "*** No CODEPAGE record, no encoding_override: will use 'ascii'\n",
            "    X1    X2     X3    X4\n",
            "0   93  85.0  100.0  96.0\n",
            "1  120  45.0   75.0  58.0\n",
            "2   65  80.0   65.0  95.0\n",
            "3  105  28.0   40.0  90.0\n",
            "4  115  75.0   73.0  65.0\n",
            "Kiểm định Bartlett:\n",
            "Statistic = 2.440153553631599 p value = 0.48620382137845997\n",
            "chưa có bằng chứng thống kê bác bỏ Ho, điều này ngụ ý mẫu hiện tại mang tính đồng nhất về phương sai\n",
            "None\n",
            "Kiểm định Shapiro - X1\n",
            "chưa có bằng chứng bác bỏ Ho,mẫu có thể phân theo phân phối chuẩn\n",
            "None\n",
            "Kiểm định Shapiro - X2\n",
            "chưa có bằng chứng bác bỏ Ho,mẫu có thể phân theo phân phối chuẩn\n",
            "None\n",
            "Kiểm định Shapiro - X3\n",
            "chưa có bằng chứng bác bỏ Ho,mẫu có thể phân theo phân phối chuẩn\n",
            "None\n",
            "Kiểm định Shapiro - X4\n",
            "chưa có bằng chứng bác bỏ Ho,mẫu có thể phân theo phân phối chuẩn\n",
            "None\n",
            "Kiểm định Anova:\n",
            "Stat = nan p value = nan\n",
            "Chưa có bằng chứng thống kê để bác bỏ giả thuyết H0\n",
            "None\n"
          ],
          "name": "stdout"
        }
      ]
    },
    {
      "cell_type": "code",
      "metadata": {
        "colab": {
          "base_uri": "https://localhost:8080/"
        },
        "id": "aNTZaRv0-acB",
        "outputId": "72807ec2-0e13-45e2-e19e-c72a773be517"
      },
      "source": [
        "df2 = pd.read_excel(\"owan02.xls\")\n",
        "print(df2.head())\n",
        "x2_1 = df2['X1']\n",
        "x2_2 = df2['X2']\n",
        "x2_3 = df2['X3']\n",
        "x2_4 = df2['X4']\n",
        "#kiểm tra tính đồng nhất về phương sai\n",
        "print(bartlett(x1_1, x1_2, x1_3, x1_4))\n",
        "\n",
        "#kiểm tra tính phân phối chuẩn\n",
        "print(Shapiro(x1_1))\n",
        "print(Shapiro(x1_2))\n",
        "print(Shapiro(x1_3))\n",
        "print(Shapiro(x1_4))\n",
        "\n",
        "#kiểm định ANOVA\n",
        "print(anova(x1_1, x1_2, x1_3, x1_4))"
      ],
      "execution_count": 6,
      "outputs": [
        {
          "output_type": "stream",
          "text": [
            "*** No CODEPAGE record, no encoding_override: will use 'ascii'\n",
            "     X1    X2    X3    X4    X5\n",
            "0  2569  2074  2505  2838  1532\n",
            "1  2928  2885  2315  2351  2552\n",
            "2  2865  3378  2667  3001  3083\n",
            "3  3844  3906  2390  2439  2330\n",
            "4  3027  2782  3021  2199  2079\n",
            "Kiểm định Bartlett:\n",
            "Statistic = 2.440153553631599 p value = 0.48620382137845997\n",
            "chưa có bằng chứng thống kê bác bỏ Ho, điều này ngụ ý mẫu hiện tại mang tính đồng nhất về phương sai\n",
            "None\n",
            "Kiểm định Shapiro - X1\n",
            "chưa có bằng chứng bác bỏ Ho,mẫu có thể phân theo phân phối chuẩn\n",
            "None\n",
            "Kiểm định Shapiro - X2\n",
            "chưa có bằng chứng bác bỏ Ho,mẫu có thể phân theo phân phối chuẩn\n",
            "None\n",
            "Kiểm định Shapiro - X3\n",
            "chưa có bằng chứng bác bỏ Ho,mẫu có thể phân theo phân phối chuẩn\n",
            "None\n",
            "Kiểm định Shapiro - X4\n",
            "chưa có bằng chứng bác bỏ Ho,mẫu có thể phân theo phân phối chuẩn\n",
            "None\n",
            "Kiểm định Anova:\n",
            "Stat = nan p value = nan\n",
            "Chưa có bằng chứng thống kê để bác bỏ giả thuyết H0\n",
            "None\n"
          ],
          "name": "stdout"
        }
      ]
    },
    {
      "cell_type": "code",
      "metadata": {
        "colab": {
          "base_uri": "https://localhost:8080/"
        },
        "id": "B7mvUqE--oP6",
        "outputId": "4e996888-aa7c-467e-bfb0-03dd2eed3ed3"
      },
      "source": [
        "\n",
        "df3 = pd.read_excel(\"owan03.xls\")\n",
        "print(df3.head())\n",
        "x3_1 = df3['X1']\n",
        "x3_2 = df3['X2']\n",
        "x3_3 = df3['X3']\n",
        "x3_4 = df3['X4']\n",
        "#kiểm tra tính đồng nhất về phương sai\n",
        "print(bartlett(x3_1, x3_2, x3_3, x3_4))\n",
        "\n",
        "#kiểm tra tính phân phối chuẩn\n",
        "print(Shapiro(x3_1))\n",
        "print(Shapiro(x3_2))\n",
        "print(Shapiro(x3_3))\n",
        "print(Shapiro(x3_4))\n",
        "\n",
        "#kiểm định ANOVA\n",
        "print(anova(x3_1, x3_2, x3_3, x3_4))"
      ],
      "execution_count": 7,
      "outputs": [
        {
          "output_type": "stream",
          "text": [
            "*** No CODEPAGE record, no encoding_override: will use 'ascii'\n",
            "   X1    X2    X3    X4\n",
            "0  70  49.0  30.0  34.0\n",
            "1  77  60.0  37.0  36.0\n",
            "2  83  63.0  56.0  48.0\n",
            "3  87  67.0  65.0  48.0\n",
            "4  92  70.0  76.0  65.0\n",
            "Kiểm định Bartlett:\n",
            "Statistic = 12.022305190389242 p value = 0.007307141609688417\n",
            "có bằng chứng thống kê bác bỏ Ho, điều này ngụ ý mẫu hiện tại ko mang tính đồng nhất về phương sai\n",
            "None\n",
            "Kiểm định Shapiro - X1\n",
            "chưa có bằng chứng bác bỏ Ho,mẫu có thể phân theo phân phối chuẩn\n",
            "None\n",
            "Kiểm định Shapiro - X2\n",
            "chưa có bằng chứng bác bỏ Ho,mẫu có thể phân theo phân phối chuẩn\n",
            "None\n",
            "Kiểm định Shapiro - X3\n",
            "chưa có bằng chứng bác bỏ Ho,mẫu có thể phân theo phân phối chuẩn\n",
            "None\n",
            "Kiểm định Shapiro - X4\n",
            "chưa có bằng chứng bác bỏ Ho,mẫu có thể phân theo phân phối chuẩn\n",
            "None\n",
            "Kiểm định Anova:\n",
            "Stat = nan p value = nan\n",
            "Chưa có bằng chứng thống kê để bác bỏ giả thuyết H0\n",
            "None\n"
          ],
          "name": "stdout"
        }
      ]
    },
    {
      "cell_type": "code",
      "metadata": {
        "colab": {
          "base_uri": "https://localhost:8080/"
        },
        "id": "NWa4An31-vFq",
        "outputId": "3706743c-9ddb-40bc-ad4c-831e4a699787"
      },
      "source": [
        "\n",
        "df4 = pd.read_excel(\"owan04.xls\")\n",
        "print(df4.head())\n",
        "x4_1 = df4['X1']\n",
        "x4_2 = df4['X2']\n",
        "x4_3 = df4['X3']\n",
        "x4_4 = df4['X4']\n",
        "#kiểm tra tính đồng nhất về phương sai\n",
        "print(bartlett(x4_1, x4_2, x4_3, x4_4))\n",
        "\n",
        "#kiểm tra tính phân phối chuẩn\n",
        "print(Shapiro(x4_1))\n",
        "print(Shapiro(x4_2))\n",
        "print(Shapiro(x4_3))\n",
        "print(Shapiro(x4_4))\n",
        "\n",
        "\n",
        "#kiểm định ANOVA\n",
        "print(anova(x4_1, x4_2, x4_3, x4_4))"
      ],
      "execution_count": 8,
      "outputs": [
        {
          "output_type": "stream",
          "text": [
            "*** No CODEPAGE record, no encoding_override: will use 'ascii'\n",
            "      X1     X2    X3     X4  X5\n",
            "0   80.0  150.0  48.0  100.0  25\n",
            "1  125.0   40.0  35.0   96.0  80\n",
            "2   35.0  120.0  95.0   35.0  30\n",
            "3   58.0   75.0  45.0   99.0  35\n",
            "4  110.0  160.0  75.0   75.0  30\n",
            "Kiểm định Bartlett:\n",
            "Statistic = 0.7096149389899192 p value = 0.8709401220405605\n",
            "chưa có bằng chứng thống kê bác bỏ Ho, điều này ngụ ý mẫu hiện tại mang tính đồng nhất về phương sai\n",
            "None\n",
            "Kiểm định Shapiro - X1\n",
            "chưa có bằng chứng bác bỏ Ho,mẫu có thể phân theo phân phối chuẩn\n",
            "None\n",
            "Kiểm định Shapiro - X2\n",
            "chưa có bằng chứng bác bỏ Ho,mẫu có thể phân theo phân phối chuẩn\n",
            "None\n",
            "Kiểm định Shapiro - X3\n",
            "chưa có bằng chứng bác bỏ Ho,mẫu có thể phân theo phân phối chuẩn\n",
            "None\n",
            "Kiểm định Shapiro - X4\n",
            "chưa có bằng chứng bác bỏ Ho,mẫu có thể phân theo phân phối chuẩn\n",
            "None\n",
            "Kiểm định Anova:\n",
            "Stat = nan p value = nan\n",
            "Chưa có bằng chứng thống kê để bác bỏ giả thuyết H0\n",
            "None\n"
          ],
          "name": "stdout"
        }
      ]
    },
    {
      "cell_type": "code",
      "metadata": {
        "colab": {
          "base_uri": "https://localhost:8080/"
        },
        "id": "jsbANmw6-7Oy",
        "outputId": "4571cf6f-4caf-494f-9dee-ba2a5f46dd3e"
      },
      "source": [
        "df5 = pd.read_excel(\"owan05.xls\")\n",
        "print(df5)\n",
        "x5_1 = df5['X1']\n",
        "x5_2 = df5['X2']\n",
        "x5_3 = df5['X3']\n",
        "x5_4 = df5['X4']\n",
        "#kiểm tra tính đồng nhất về phương sai\n",
        "print(bartlett(x5_1, x5_2, x5_3, x5_4))\n",
        "\n",
        "#kiểm tra tính phân phối chuẩn\n",
        "print(Shapiro(x5_1))\n",
        "print(Shapiro(x5_2))\n",
        "print(Shapiro(x5_3))\n",
        "print(Shapiro(x5_4))\n",
        "\n",
        "\n",
        "#kiểm định ANOVA\n",
        "print(anova(x5_1, x5_2, x5_3, x5_4))"
      ],
      "execution_count": 9,
      "outputs": [
        {
          "output_type": "stream",
          "text": [
            "*** No CODEPAGE record, no encoding_override: will use 'ascii'\n",
            "     X1   X2   X3   X4   X5\n",
            "0   250  260  270  260  247\n",
            "1   255  271  250  255  249\n",
            "2   255  258  281  265  255\n",
            "3   264  263  273  257  247\n",
            "4   250  267  257  268  244\n",
            "5   265  254  264  263  245\n",
            "6   245  255  233  247  249\n",
            "7   252  250  254  253  260\n",
            "8   266  248  268  251  217\n",
            "9   246  240  252  252  208\n",
            "10  251  254  256  266  228\n",
            "11  263  275  265  264  253\n",
            "12  248  270  252  210  249\n",
            "13  228  225  256  236  223\n",
            "14  221  222  235  225  221\n",
            "15  223  230  216  230  228\n",
            "16  220  225  241  232  271\n",
            "Kiểm định Bartlett:\n",
            "Statistic = 0.20395005173624925 p value = 0.976949119375083\n",
            "chưa có bằng chứng thống kê bác bỏ Ho, điều này ngụ ý mẫu hiện tại mang tính đồng nhất về phương sai\n",
            "None\n",
            "Kiểm định Shapiro - X1\n",
            "có bằng chứng bác bỏ Ho,mẫu ko phân theo phân phối chuẩn\n",
            "None\n",
            "Kiểm định Shapiro - X2\n",
            "chưa có bằng chứng bác bỏ Ho,mẫu có thể phân theo phân phối chuẩn\n",
            "None\n",
            "Kiểm định Shapiro - X3\n",
            "chưa có bằng chứng bác bỏ Ho,mẫu có thể phân theo phân phối chuẩn\n",
            "None\n",
            "Kiểm định Shapiro - X4\n",
            "chưa có bằng chứng bác bỏ Ho,mẫu có thể phân theo phân phối chuẩn\n",
            "None\n",
            "Kiểm định Anova:\n",
            "Stat = 0.5862084740025069 p value = 0.6262423408029135\n",
            "Chưa có bằng chứng thống kê để bác bỏ giả thuyết H0\n",
            "None\n"
          ],
          "name": "stdout"
        }
      ]
    }
  ]
}